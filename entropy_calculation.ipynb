{
 "cells": [
  {
   "cell_type": "code",
   "execution_count": 2,
   "metadata": {},
   "outputs": [],
   "source": [
    "%load_ext autoreload\n",
    "import pickle as pkl\n",
    "from matplotlib import pyplot as plt\n",
    "import torch\n",
    "import sys\n",
    "import os\n",
    "from typing import Literal\n",
    "from tqdm import trange"
   ]
  },
  {
   "attachments": {},
   "cell_type": "markdown",
   "metadata": {},
   "source": [
    "## I. Load and Visualize real attention-label joint and conditional distributions ($p(a|y)$ and $p(y|a)$)"
   ]
  },
  {
   "cell_type": "code",
   "execution_count": 9,
   "metadata": {},
   "outputs": [],
   "source": [
    "prev_path = os.path.realpath('..') \n",
    "if prev_path not in sys.path:\n",
    "    sys.path.append(prev_path)\n",
    "\n",
    "def pickle_load(file_name: str, method: Literal['torch', 'pickle'] = 'torch'):\n",
    "    with open(file_name, 'rb') as f:\n",
    "        return torch.load(f) if method == 'torch' else pkl.load(f)\n",
    "\n",
    "proportion = '_0_05'\n",
    "transpose=''\n",
    "model_name = 'open_llama_13b'\n",
    "model_name_2 = 'open_llama_13b_bak'\n",
    "pos_features = pickle_load(f'../pretrained-models/kde/{model_name}/pos_attn_samples{proportion}{transpose}.pkl')\n",
    "neg_features = pickle_load(f'../pretrained-models/kde/{model_name}/neg_attn_samples{proportion}{transpose}.pkl')\n",
    "height_features = pickle_load(f'../pretrained-models/kde/{model_name}/height_attn_samples{proportion}{transpose}.pkl')\n",
    "label_features = pickle_load(f'../pretrained-models/kde/{model_name}/label_attn_samples{proportion}{transpose}.pkl')\n",
    "pos_features_2 = pickle_load(f'../pretrained-models/kde/{model_name_2}/pos_attn_samples{proportion}{transpose}.pkl')\n",
    "neg_features_2 = pickle_load(f'../pretrained-models/kde/{model_name_2}/neg_attn_samples{proportion}{transpose}.pkl')\n",
    "height_features_2 = pickle_load(f'../pretrained-models/kde/{model_name_2}/height_attn_samples{proportion}{transpose}.pkl')\n",
    "label_features_2 = pickle_load(f'../pretrained-models/kde/{model_name_2}/label_attn_samples{proportion}{transpose}.pkl')\n",
    "\n",
    "# pos_kde_estims = pickle_load(f'../pretrained-models/kde/{model_name}/pos_attn_conditional{proportion}{transpose}.pkl', method='pickle')\n",
    "# neg_kde_estims = pickle_load(f'../pretrained-models/kde/{model_name}/neg_attn_conditional{proportion}{transpose}.pkl', method='pickle')\n",
    "# conditional_probab_pos = pickle_load(f'../pretrained-models/kde/{model_name}/pos_arc_conditional{proportion}{transpose}.pkl', method='pickle')\n",
    "# conditional_probab_neg = pickle_load(f'../pretrained-models/kde/{model_name}/neg_arc_conditional{proportion}{transpose}.pkl', method='pickle')\n",
    "# x = pickle_load(f'../pretrained-models/kde/{model_name}/x{proportion}{transpose}.pkl', method='pickle')\n",
    "\n",
    "# n_pos_samples, n_neg_samples = pos_features.shape[0], neg_features.shape[0]\n",
    "# n_samples = n_pos_samples + n_neg_samples\n",
    "# pos_probab, neg_probab = n_pos_samples / n_samples, n_neg_samples / n_samples\n",
    "\n",
    "# max_attn_feature_val = max(pos_features.max().item(), neg_features.max().item())\n",
    "# min_attn_feature_val = min(pos_features.min().item(), neg_features.min().item())\n",
    "\n",
    "# x = torch.cat([torch.arange(round(min_attn_feature_val, 1) - 0.2, 0, 0.1), torch.arange(0, 1, 0.01), torch.arange(1, max_attn_feature_val + 0.2)]).to('cuda:0')\n",
    "\n",
    "# for attn_feat_idx in trange(len(pos_kde_estims)): # attn_feat_idx (i)\n"
   ]
  },
  {
   "cell_type": "code",
   "execution_count": 10,
   "metadata": {},
   "outputs": [
    {
     "name": "stdout",
     "output_type": "stream",
     "text": [
      "tensor(True)\n",
      "tensor(True)\n"
     ]
    }
   ],
   "source": [
    "print((pos_features == pos_features_2).all())\n",
    "print((neg_features == neg_features_2).all())"
   ]
  },
  {
   "cell_type": "code",
   "execution_count": 3,
   "metadata": {},
   "outputs": [],
   "source": [
    "# for i in trange(len(pos_kde_estims)):\n",
    "#     fig = plt.figure()\n",
    "#     plt.plot(x.cpu(), pos_kde_estims[i], label='pos')\n",
    "#     plt.plot(x.cpu(), neg_kde_estims[i], label='neg')\n",
    "#     plt.title(f'conditional pdf for head {i:03d}')\n",
    "#     plt.legend()\n",
    "#     plt.savefig(os.path.join('conditional_pdfs', f'{i:03d}.png'))\n",
    "#     plt.close(fig)"
   ]
  },
  {
   "cell_type": "code",
   "execution_count": 4,
   "metadata": {},
   "outputs": [],
   "source": [
    "# ! tar -zcf conditional_pdfs.tar conditional_pdfs/"
   ]
  },
  {
   "cell_type": "code",
   "execution_count": 5,
   "metadata": {},
   "outputs": [],
   "source": [
    "# %autoreload 3"
   ]
  },
  {
   "cell_type": "code",
   "execution_count": 6,
   "metadata": {},
   "outputs": [],
   "source": [
    "from explaination import integral_torch_cuda"
   ]
  },
  {
   "cell_type": "code",
   "execution_count": null,
   "metadata": {},
   "outputs": [],
   "source": [
    "\n",
    "for pos_estim, neg_estim in zip(pos_kde_estims, neg_kde_estims):\n",
    "    cdf_pos = integral_torch_cuda(x.to('cuda:0'), pos_estim.to('cuda:0'), definite=False)\n",
    "    cdf_neg = integral_torch_cuda(x.to('cuda:0'), neg_estim.to('cuda:0'), definite=False)\n",
    "    # print(cdf_pos[-1], cdf_neg[-1])\n",
    "    fig = plt.figure()\n",
    "    plt.plot(x.cpu(), cdf_pos.cpu())\n",
    "    plt.show()\n",
    "    plt.close(fig)\n",
    "    break"
   ]
  },
  {
   "cell_type": "markdown",
   "metadata": {},
   "source": [
    "## Generate synthetic data using known skewed distribution, comparing KDE and v-Information"
   ]
  },
  {
   "cell_type": "code",
   "execution_count": 8,
   "metadata": {},
   "outputs": [],
   "source": [
    "from explaination import integral_torch_cuda, inference_by_func, estimate_mi, estimate_kde_torch\n",
    "import scipy.stats as ss\n",
    "from torch import nn, Tensor, tensor\n",
    "from typing import List\n",
    "\n",
    "KDE_DEVICE = 'cuda:0'"
   ]
  },
  {
   "cell_type": "code",
   "execution_count": 9,
   "metadata": {},
   "outputs": [],
   "source": [
    "def generate_samples_from_distribution(x: Tensor, pdf: Tensor, n_samples: int):\n",
    "    cdf = integral_torch_cuda(x, pdf, definite=False)\n",
    "    cdf = cdf / cdf.max()\n",
    "    random_samples = torch.rand(n_samples, device=x.device)\n",
    "    indices = torch.searchsorted(cdf, random_samples, right=True)\n",
    "    # indices = torch.clamp(indices, 1, len(xp)-1)\n",
    "    # Get the x coordinates for interpolation\n",
    "    x0 = x[indices - 1]\n",
    "    x1 = x[indices]\n",
    "    # Get the corresponding y coordinates for interpolation\n",
    "    y0 = cdf[indices - 1]\n",
    "    y1 = cdf[indices]\n",
    "    # Perform linear interpolation\n",
    "    slope = (x1 - x0) / (y1 - y0)\n",
    "    result = x0 + slope * (random_samples - y0)\n",
    "    return result\n",
    "\n",
    "\n",
    "for pos_kde_estim, neg_kde_estim in zip(pos_kde_estims, neg_kde_estims):\n",
    "    # generate synthetic data from the conditional distributions of positive and negative samples\n",
    "    synthetic_data_pos = generate_samples_from_distribution(x.to(KDE_DEVICE), pos_kde_estims[0].to(KDE_DEVICE), len(pos_features))\n",
    "    synthetic_data_neg = generate_samples_from_distribution(x.to(KDE_DEVICE), neg_kde_estims[0].to(KDE_DEVICE), len(neg_features))\n",
    "    # train a network to distinguish between the synthetic data\n",
    "\n"
   ]
  },
  {
   "cell_type": "code",
   "execution_count": 10,
   "metadata": {},
   "outputs": [
    {
     "name": "stdout",
     "output_type": "stream",
     "text": [
      "0.08773163706064224 tensor(1.7187, device='cuda:0') tensor(0.5818, device='cuda:0')\n"
     ]
    }
   ],
   "source": [
    "estimated_kde_0 = estimate_kde_torch(x.to(KDE_DEVICE), synthetic_data.to(KDE_DEVICE))"
   ]
  },
  {
   "cell_type": "code",
   "execution_count": 15,
   "metadata": {},
   "outputs": [
    {
     "name": "stdout",
     "output_type": "stream",
     "text": [
      "tensor(1.) tensor(1.)\n"
     ]
    }
   ],
   "source": []
  },
  {
   "cell_type": "code",
   "execution_count": 11,
   "metadata": {},
   "outputs": [
    {
     "data": {
      "text/plain": [
       "[<matplotlib.lines.Line2D at 0x14c914042b20>]"
      ]
     },
     "execution_count": 11,
     "metadata": {},
     "output_type": "execute_result"
    },
    {
     "data": {
      "image/png": "[encoded data removed]",
      "text/plain": [
       "<Figure size 640x480 with 1 Axes>"
      ]
     },
     "metadata": {},
     "output_type": "display_data"
    }
   ],
   "source": [
    "fig = plt.figure()\n",
    "plt.plot(x.cpu(), pos_kde_estims[0].cpu())\n",
    "plt.plot(x.cpu(), estimated_kde_0.cpu())"
   ]
  }
 ],
 "metadata": {
  "kernelspec": {
   "display_name": "Python 3 (ipykernel)",
   "language": "python",
   "name": "python3"
  },
  "language_info": {
   "codemirror_mode": {
    "name": "ipython",
    "version": 3
   },
   "file_extension": ".py",
   "mimetype": "text/x-python",
   "name": "python",
   "nbconvert_exporter": "python",
   "pygments_lexer": "ipython3",
   "version": "3.8.18"
  },
  "orig_nbformat": 4
 },
 "nbformat": 4,
 "nbformat_minor": 2
}
