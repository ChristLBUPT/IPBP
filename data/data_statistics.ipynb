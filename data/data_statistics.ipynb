{
 "cells": [
  {
   "cell_type": "code",
   "execution_count": 1,
   "metadata": {},
   "outputs": [],
   "source": [
    "from collections import defaultdict\n",
    "import json\n",
    "import pickle as pkl"
   ]
  },
  {
   "cell_type": "code",
   "execution_count": 2,
   "metadata": {},
   "outputs": [],
   "source": [
    "\"\"\"\n",
    "1\tInfluential\t_\tJJ\tJJ\t_\t2\tamod\t_\t_\n",
    "\"\"\"\n",
    "words = set()\n",
    "sentences = []\n",
    "label2dist = defaultdict(list)\n",
    "label2direction = defaultdict(lambda: [0, 0])\n",
    "with open('train.conllu', 'r') as f:\n",
    "    this_sentence = []\n",
    "    for line in f.read().split('\\n'):\n",
    "        line = line.strip()\n",
    "        if line:\n",
    "            word_idx, word, _, _, _, _, head_idx, label, _, _ = line.split('\\t')\n",
    "            word_idx, head_idx = int(word_idx), int(head_idx)\n",
    "            label2dist[label].append(abs(word_idx - head_idx))\n",
    "            if word_idx < head_idx:\n",
    "                label2direction[label][1] += 1\n",
    "            else:\n",
    "                label2direction[label][0] += 1\n",
    "\n",
    "            # try:\n",
    "            #     word = line[1]\n",
    "            #     words.add(word)\n",
    "            #     this_sentence.append(word)\n",
    "            # except Exception as e:\n",
    "            #     print(line)\n",
    "            #     raise e\n",
    "        # else:\n",
    "        #     sentences.append(this_sentence)\n",
    "        #     this_sentence = []\n",
    "label2avgdist = {label: sum(dists) / len(dists) for label, dists in label2dist.items()}\n",
    "# label2direction: [0] stands for left, [1] stands for right"
   ]
  },
  {
   "cell_type": "code",
   "execution_count": 4,
   "metadata": {},
   "outputs": [
    {
     "data": {
      "text/plain": [
       "defaultdict(<function __main__.<lambda>()>,\n",
       "            {'prep': [85325, 6536],\n",
       "             'det': [47, 78201],\n",
       "             'nn': [68, 73396],\n",
       "             'num': [8246, 13424],\n",
       "             'pobj': [89463, 44],\n",
       "             'punct': [82728, 26983],\n",
       "             'poss': [3, 16782],\n",
       "             'possessive': [8704, 28],\n",
       "             'amod': [1920, 58653],\n",
       "             'nsubj': [2594, 64522],\n",
       "             'appos': [6868, 61],\n",
       "             'dobj': [38637, 971],\n",
       "             'dep': [10327, 4511],\n",
       "             'cc': [21315, 2645],\n",
       "             'conj': [24190, 101],\n",
       "             'nsubjpass': [24, 6831],\n",
       "             'partmod': [5315, 420],\n",
       "             'auxpass': [23, 7573],\n",
       "             'advmod': [8120, 20605],\n",
       "             'root': [39832, 0],\n",
       "             'ccomp': [12070, 3379],\n",
       "             'aux': [29, 33863],\n",
       "             'cop': [4, 9793],\n",
       "             'xcomp': [11585, 6],\n",
       "             'quantmod': [56, 3557],\n",
       "             'tmod': [2533, 588],\n",
       "             'neg': [282, 4304],\n",
       "             'infmod': [2480, 0],\n",
       "             'rcmod': [7641, 0],\n",
       "             'pcomp': [5072, 0],\n",
       "             'mark': [0, 10423],\n",
       "             'advcl': [3834, 2243],\n",
       "             'predet': [0, 376],\n",
       "             'csubj': [0, 378],\n",
       "             'mwe': [343, 1055],\n",
       "             'parataxis': [967, 547],\n",
       "             'npadvmod': [317, 1334],\n",
       "             'number': [1844, 7842],\n",
       "             'acomp': [668, 1],\n",
       "             'prt': [2627, 4],\n",
       "             'iobj': [639, 0],\n",
       "             'preconj': [0, 334],\n",
       "             'expl': [1, 856],\n",
       "             'discourse': [43, 63],\n",
       "             'csubjpass': [0, 11]})"
      ]
     },
     "execution_count": 4,
     "metadata": {},
     "output_type": "execute_result"
    }
   ],
   "source": [
    "label2direction"
   ]
  },
  {
   "cell_type": "code",
   "execution_count": 23,
   "metadata": {},
   "outputs": [
    {
     "name": "stdout",
     "output_type": "stream",
     "text": [
      "17 19 9\n"
     ]
    }
   ],
   "source": [
    "label2direction_binary = {}\n",
    "mainstream_populations = []\n",
    "for label_name in label2direction:\n",
    "    n_left, n_right = label2direction[label_name]\n",
    "    total = n_left + n_right\n",
    "    mainstream_population = round(max(n_left / total, n_right / total) * 100, 2)\n",
    "    mainstream_populations.append(mainstream_population)\n",
    "    if mainstream_population > 80:\n",
    "        if n_left > n_right:\n",
    "            label2direction_binary[label_name] = 'left'\n",
    "        else:\n",
    "            label2direction_binary[label_name] = 'right'\n",
    "    else:\n",
    "        label2direction_binary[label_name] = 'both'\n",
    "\n",
    "directions = [*label2direction_binary.values()]\n",
    "print(directions.count('left'), directions.count('right'), directions.count('both'))"
   ]
  },
  {
   "cell_type": "code",
   "execution_count": 35,
   "metadata": {},
   "outputs": [
    {
     "name": "stdout",
     "output_type": "stream",
     "text": [
      "defaultdict(<class 'int'>, {'left': 6, 'both': 2, 'right': 4})\n",
      "defaultdict(<class 'int'>, {'left': 4, 'both': 1, 'right': 7})\n"
     ]
    }
   ],
   "source": [
    "high_acc_label_names = ('root', 'punct', 'pobj', 'prep', 'nsubj', 'det', 'conj', 'ccomp', 'nn', 'amod', 'dobj', 'cc')\n",
    "high_acc_label_names_transpose = ('root', 'punct', 'pobj', 'prep', 'nsubj', 'nn', 'amod', 'det', 'aux', 'auxpass', 'dobj', 'quantmod')\n",
    "n_directions_among_high_acc_labels = defaultdict(int)\n",
    "for label_name in high_acc_label_names:\n",
    "    direction = label2direction_binary[label_name]\n",
    "    n_directions_among_high_acc_labels[direction] += 1\n",
    "print(n_directions_among_high_acc_labels)\n",
    "\n",
    "n_directions_among_high_acc_labels = defaultdict(int)\n",
    "for label_name in high_acc_label_names_transpose:\n",
    "    direction = label2direction_binary[label_name]\n",
    "    n_directions_among_high_acc_labels[direction] += 1\n",
    "print(n_directions_among_high_acc_labels)"
   ]
  },
  {
   "cell_type": "code",
   "execution_count": 36,
   "metadata": {},
   "outputs": [
    {
     "data": {
      "text/plain": [
       "{'prep': 'left',\n",
       " 'det': 'right',\n",
       " 'nn': 'right',\n",
       " 'num': 'both',\n",
       " 'pobj': 'left',\n",
       " 'punct': 'both',\n",
       " 'poss': 'right',\n",
       " 'possessive': 'left',\n",
       " 'amod': 'right',\n",
       " 'nsubj': 'right',\n",
       " 'appos': 'left',\n",
       " 'dobj': 'left',\n",
       " 'dep': 'both',\n",
       " 'cc': 'left',\n",
       " 'conj': 'left',\n",
       " 'nsubjpass': 'right',\n",
       " 'partmod': 'left',\n",
       " 'auxpass': 'right',\n",
       " 'advmod': 'both',\n",
       " 'root': 'left',\n",
       " 'ccomp': 'both',\n",
       " 'aux': 'right',\n",
       " 'cop': 'right',\n",
       " 'xcomp': 'left',\n",
       " 'quantmod': 'right',\n",
       " 'tmod': 'left',\n",
       " 'neg': 'right',\n",
       " 'infmod': 'left',\n",
       " 'rcmod': 'left',\n",
       " 'pcomp': 'left',\n",
       " 'mark': 'right',\n",
       " 'advcl': 'both',\n",
       " 'predet': 'right',\n",
       " 'csubj': 'right',\n",
       " 'mwe': 'both',\n",
       " 'parataxis': 'both',\n",
       " 'npadvmod': 'right',\n",
       " 'number': 'right',\n",
       " 'acomp': 'left',\n",
       " 'prt': 'left',\n",
       " 'iobj': 'left',\n",
       " 'preconj': 'right',\n",
       " 'expl': 'right',\n",
       " 'discourse': 'both',\n",
       " 'csubjpass': 'right'}"
      ]
     },
     "execution_count": 36,
     "metadata": {},
     "output_type": "execute_result"
    }
   ],
   "source": [
    "label2direction_binary"
   ]
  },
  {
   "cell_type": "code",
   "execution_count": null,
   "metadata": {},
   "outputs": [],
   "source": [
    "with open('./train.conllu', 'r') as f:\n",
    "    stop_words = "
   ]
  },
  {
   "cell_type": "code",
   "execution_count": 31,
   "metadata": {},
   "outputs": [],
   "source": [
    "with open('./dataset_priors.pkl', 'wb') as f:\n",
    "    pkl.dump({\"label2avgdist\": dict(label2avgdist), \"label2direction\": dict(label2direction), \"label2direction_binary\": dict(label2direction_binary)}, f)"
   ]
  },
  {
   "cell_type": "code",
   "execution_count": 15,
   "metadata": {},
   "outputs": [
    {
     "name": "stdout",
     "output_type": "stream",
     "text": [
      "{'root': [39832, 0], 'punct': [82728, 26983], 'pobj': [89463, 44], 'prep': [85325, 6536], 'nsubj': [2594, 64522], 'det': [47, 78201], 'conj': [24190, 101], 'ccomp': [12070, 3379], 'nn': [68, 73396], 'amod': [1920, 58653], 'dobj': [38637, 971], 'cc': [21315, 2645]}\n",
      "{'root': [39832, 0], 'punct': [82728, 26983], 'pobj': [89463, 44], 'prep': [85325, 6536], 'nsubj': [2594, 64522], 'nn': [68, 73396], 'amod': [1920, 58653], 'det': [47, 78201], 'aux': [29, 33863], 'auxpass': [23, 7573], 'dobj': [38637, 971], 'quantmod': [56, 3557]}\n"
     ]
    }
   ],
   "source": [
    "print({label_name: label2direction[label_name] for label_name in high_acc_label_names})\n",
    "print({label_name: label2direction[label_name] for label_name in high_acc_label_names_transpose})\n",
    "# print(label2direction)"
   ]
  },
  {
   "cell_type": "code",
   "execution_count": 4,
   "metadata": {},
   "outputs": [
    {
     "name": "stdout",
     "output_type": "stream",
     "text": [
      "23.85027489769789\n"
     ]
    }
   ],
   "source": [
    "lens = [len(each) for each in sentences]\n",
    "print(sum(lens) / len(lens))\n",
    "print(len(lens))"
   ]
  },
  {
   "cell_type": "code",
   "execution_count": 12,
   "metadata": {},
   "outputs": [
    {
     "name": "stdout",
     "output_type": "stream",
     "text": [
      "9333\n"
     ]
    }
   ],
   "source": [
    "import sys\n",
    "import os\n",
    "if os.path.abspath('..') not in sys.path: sys.path.append(os.path.realpath('..'))\n",
    "from util.fn import ispunct \n",
    "\n",
    "word_with_punct = []\n",
    "for word in words:\n",
    "    if any([ispunct(character) for character in word]):\n",
    "        word_with_punct.append(word)\n",
    "\n",
    "print(len(word_with_punct))"
   ]
  },
  {
   "cell_type": "code",
   "execution_count": 1,
   "metadata": {},
   "outputs": [],
   "source": [
    "import sys\n",
    "import os\n",
    "pdir = os.path.realpath('..')\n",
    "if pdir not in sys.path: sys.path.append(pdir)"
   ]
  },
  {
   "cell_type": "code",
   "execution_count": null,
   "metadata": {},
   "outputs": [],
   "source": [
    "from modules import OpenELMModel"
   ]
  }
 ],
 "metadata": {
  "kernelspec": {
   "display_name": "Python 3",
   "language": "python",
   "name": "python3"
  },
  "language_info": {
   "codemirror_mode": {
    "name": "ipython",
    "version": 3
   },
   "file_extension": ".py",
   "mimetype": "text/x-python",
   "name": "python",
   "nbconvert_exporter": "python",
   "pygments_lexer": "ipython3",
   "version": "3.8.20"
  },
  "orig_nbformat": 4
 },
 "nbformat": 4,
 "nbformat_minor": 2
}
